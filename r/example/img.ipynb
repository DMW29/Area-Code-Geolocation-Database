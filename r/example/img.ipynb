{
  "nbformat": 4,
  "nbformat_minor": 0,
  "metadata": {
    "colab": {
      "provenance": [],
      "include_colab_link": true
    },
    "kernelspec": {
      "name": "ir",
      "display_name": "R"
    },
    "language_info": {
      "name": "R"
    }
  },
  "cells": [
    {
      "cell_type": "markdown",
      "metadata": {
        "id": "view-in-github",
        "colab_type": "text"
      },
      "source": [
        "<a href=\"https://colab.research.google.com/github/DMW29/Area-Code-Geolocation-Database/blob/master/r/example/img.ipynb\" target=\"_parent\"><img src=\"https://colab.research.google.com/assets/colab-badge.svg\" alt=\"Open In Colab\"/></a>"
      ]
    },
    {
      "cell_type": "markdown",
      "source": [
        "# Installation & Setup"
      ],
      "metadata": {
        "id": "mDBGn0Qzsql5"
      }
    },
    {
      "cell_type": "code",
      "execution_count": 1,
      "metadata": {
        "id": "EQ5mDg9-siid"
      },
      "outputs": [],
      "source": [
        "# The following commands are for Colab only\n",
        "system('add-apt-repository -y ppa:cran/imagemagick')\n",
        "system('apt-get update')\n",
        "system(\"apt-get install libmagick++-dev\")"
      ]
    },
    {
      "cell_type": "code",
      "source": [
        "# Install the library (usually 1 - 3 minutes in Colab)\n",
        "install.packages(\"GenAI\")\n",
        "library(\"GenAI\")"
      ],
      "metadata": {
        "colab": {
          "base_uri": "https://localhost:8080/"
        },
        "id": "1GM7l5lOnUmg",
        "outputId": "3ba8ae0f-6651-4ba7-c750-6a9d5aed4c57"
      },
      "execution_count": null,
      "outputs": [
        {
          "output_type": "stream",
          "name": "stderr",
          "text": [
            "Installing package into ‘/usr/local/lib/R/site-library’\n",
            "(as ‘lib’ is unspecified)\n",
            "\n",
            "also installing the dependencies ‘gridGraphics’, ‘yulab.utils’, ‘listenv’, ‘magick’, ‘ggplotify’\n",
            "\n",
            "\n"
          ]
        }
      ]
    },
    {
      "cell_type": "markdown",
      "source": [
        "# Get Available Models"
      ],
      "metadata": {
        "id": "UdwTs_oitM8A"
      }
    },
    {
      "cell_type": "code",
      "source": [
        "all.models = available.models() %>% print()"
      ],
      "metadata": {
        "id": "S0lunMhxtOl_"
      },
      "execution_count": null,
      "outputs": []
    },
    {
      "cell_type": "markdown",
      "source": [
        "# Example for OpenAI"
      ],
      "metadata": {
        "id": "9WT-U29ynZv4"
      }
    },
    {
      "cell_type": "code",
      "source": [
        "# Please change YOUR_OPENAI_API to your own API key of OpenAI\n",
        "Sys.setenv(OPENAI_API = \"YOUR_OPENAI_API\")\n",
        "\n",
        "# Please change YOUR_OPENAI_ORG to your own organization ID for OpenAI\n",
        "Sys.setenv(OPENAI_ORG = \"YOUR_OPENAI_ORG\")"
      ],
      "metadata": {
        "id": "ueumKuCtz3UK"
      },
      "execution_count": null,
      "outputs": []
    },
    {
      "cell_type": "code",
      "source": [
        "# Create an OpenAI object\n",
        "openai = genai.openai(api = Sys.getenv(\"OPENAI_API\"),\n",
        "                      model = all.models$openai$model[8],\n",
        "                      version = all.models$openai$version[1],\n",
        "                      proxy = FALSE,\n",
        "                      organization.id = Sys.getenv(\"OPENAI_ORG\"))"
      ],
      "metadata": {
        "id": "budHNRsahxnB"
      },
      "execution_count": null,
      "outputs": []
    },
    {
      "cell_type": "code",
      "source": [
        "# Method 1 (recommended): use the pipe operator \"%>%\"\n",
        "openai.image = openai %>%\n",
        "  img(prompt = \"A very cute panda eating banboo.\",\n",
        "      verbose = FALSE,\n",
        "      config = list(size = \"256x256\"))\n",
        "openai.image"
      ],
      "metadata": {
        "id": "U1Y5W07h7PzT"
      },
      "execution_count": null,
      "outputs": []
    },
    {
      "cell_type": "code",
      "source": [
        "# Method 2: use the reference operator \"$\"\n",
        "openai.image = openai$img(prompt = \"A very cute sea otter on a rock.\",\n",
        "                          verbose = FALSE,\n",
        "                          config = list(size = \"512x512\"))\n",
        "openai.image"
      ],
      "metadata": {
        "id": "dLuGmlvZnmnx"
      },
      "execution_count": null,
      "outputs": []
    },
    {
      "cell_type": "code",
      "source": [
        "# Method 3: use the function img() directly\n",
        "openai.image = img(genai.object = openai,\n",
        "                   prompt = \"A very cute bear.\",\n",
        "                   verbose = FALSE,\n",
        "                   config = list(size = \"1024x1024\"))\n",
        "openai.image"
      ],
      "metadata": {
        "id": "kKyw9WCaoWed"
      },
      "execution_count": null,
      "outputs": []
    }
  ]
}